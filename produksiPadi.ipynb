{
  "nbformat": 4,
  "nbformat_minor": 0,
  "metadata": {
    "colab": {
      "provenance": [],
      "authorship_tag": "ABX9TyMp5p4zaSMVTgKS6Zj1dSsg",
      "include_colab_link": true
    },
    "kernelspec": {
      "name": "python3",
      "display_name": "Python 3"
    },
    "language_info": {
      "name": "python"
    }
  },
  "cells": [
    {
      "cell_type": "markdown",
      "metadata": {
        "id": "view-in-github",
        "colab_type": "text"
      },
      "source": [
        "<a href=\"https://colab.research.google.com/github/AriqF1/dataMining/blob/main/produksiPadi.ipynb\" target=\"_parent\"><img src=\"https://colab.research.google.com/assets/colab-badge.svg\" alt=\"Open In Colab\"/></a>"
      ]
    },
    {
      "cell_type": "code",
      "execution_count": 3,
      "metadata": {
        "colab": {
          "base_uri": "https://localhost:8080/"
        },
        "id": "-1n9yvvHWxeK",
        "outputId": "2999142a-ee94-48e3-ec57-47f6e1ff9ae4"
      },
      "outputs": [
        {
          "output_type": "stream",
          "name": "stdout",
          "text": [
            "   Tahun  Produksi Padi(Ton)\n",
            "0   1970          18693649.0\n",
            "1   1971          20483687.0\n",
            "2   1972          19393933.0\n",
            "3   1973          21490578.0\n",
            "4   1974          22476073.0\n"
          ]
        }
      ],
      "source": [
        "import pandas as pd\n",
        "\n",
        "df = pd.read_excel('produksiPadi.xlsx')\n",
        "\n",
        "print(df.head())"
      ]
    },
    {
      "cell_type": "code",
      "source": [
        "# kolom lagging 1 tahun\n",
        "df['Produksi_Lag_1'] = df['Produksi Padi(Ton)'].shift(1)\n",
        "\n",
        "# kolom lagging 2 tahun\n",
        "df['Produksi_Lag_2'] = df['Produksi Padi(Ton)'].shift(2)\n",
        "\n",
        "df.fillna(0, inplace=True) # Mengisi nilai Nan dengan angka 0\n",
        "print(df)\n"
      ],
      "metadata": {
        "colab": {
          "base_uri": "https://localhost:8080/"
        },
        "id": "B83E-lnZZeWj",
        "outputId": "93d03b5a-b743-4ef0-84c5-2d0d25dfe05a"
      },
      "execution_count": 8,
      "outputs": [
        {
          "output_type": "stream",
          "name": "stdout",
          "text": [
            "    Tahun  Produksi Padi(Ton)  Produksi_Lag_1  Produksi_Lag_2\n",
            "0    1970         18693649.00            0.00            0.00\n",
            "1    1971         20483687.00     18693649.00            0.00\n",
            "2    1972         19393933.00     20483687.00     18693649.00\n",
            "3    1973         21490578.00     19393933.00     20483687.00\n",
            "4    1974         22476073.00     21490578.00     19393933.00\n",
            "5    1975         22339455.00     22476073.00     21490578.00\n",
            "6    1976         23300939.00     22339455.00     22476073.00\n",
            "7    1977         23347132.00     23300939.00     22339455.00\n",
            "8    1978         25771570.00     23347132.00     23300939.00\n",
            "9    1979         26282663.00     25771570.00     23347132.00\n",
            "10   1980         29651905.00     26282663.00     25771570.00\n",
            "11   1981         32774176.00     29651905.00     26282663.00\n",
            "12   1982         33583677.00     32774176.00     29651905.00\n",
            "13   1983         35303106.00     33583677.00     32774176.00\n",
            "14   1984         38136446.00     35303106.00     33583677.00\n",
            "15   1985         39032945.00     38136446.00     35303106.00\n",
            "16   1986         39726761.00     39032945.00     38136446.00\n",
            "17   1987         40078195.00     39726761.00     39032945.00\n",
            "18   1988         41676170.00     40078195.00     39726761.00\n",
            "19   1989         44725582.00     41676170.00     40078195.00\n",
            "20   1990         45178751.00     44725582.00     41676170.00\n",
            "21   1991         44688247.00     45178751.00     44725582.00\n",
            "22   1992         48240009.00     44688247.00     45178751.00\n",
            "23   1993         48181087.00     48240009.00     44688247.00\n",
            "24   1994         46641524.00     48181087.00     48240009.00\n",
            "25   1995         49744140.00     46641524.00     48181087.00\n",
            "26   1996         51101506.00     49744140.00     46641524.00\n",
            "27   1997         49377054.00     51101506.00     49744140.00\n",
            "28   1998         49236692.00     49377054.00     51101506.00\n",
            "29   1999         50866387.00     49236692.00     49377054.00\n",
            "30   2000         51898852.00     50866387.00     49236692.00\n",
            "31   2001         50460782.00     51898852.00     50866387.00\n",
            "32   2002         51489694.00     50460782.00     51898852.00\n",
            "33   2003         52137604.00     51489694.00     50460782.00\n",
            "34   2004         54088468.00     52137604.00     51489694.00\n",
            "35   2005         54151097.00     54088468.00     52137604.00\n",
            "36   2006         54454937.00     54151097.00     54088468.00\n",
            "37   2007         57157435.00     54454937.00     54151097.00\n",
            "38   2008         60325925.00     57157435.00     54454937.00\n",
            "39   2009         64398890.00     60325925.00     57157435.00\n",
            "40   2010         66469394.00     64398890.00     60325925.00\n",
            "41   2011         65756904.00     66469394.00     64398890.00\n",
            "42   2012         69056126.00     65756904.00     66469394.00\n",
            "43   2013         71279709.00     69056126.00     65756904.00\n",
            "44   2014         70846465.00     71279709.00     69056126.00\n",
            "45   2015         75397841.00     70846465.00     71279709.00\n",
            "46   2016         79354767.00     75397841.00     70846465.00\n",
            "47   2017         81148617.00     79354767.00     75397841.00\n",
            "48   2018         59101577.84     81148617.00     79354767.00\n",
            "49   2019         54604033.34     59101577.84     81148617.00\n",
            "50   2020         54649202.24     54604033.34     59101577.84\n",
            "51   2021         53802637.44     54649202.24     54604033.34\n",
            "52   2022         54338410.44     53802637.44     54649202.24\n"
          ]
        }
      ]
    },
    {
      "cell_type": "code",
      "source": [
        "import pandas as pd\n",
        "from sklearn.model_selection import train_test_split\n",
        "from sklearn.linear_model import LinearRegression\n",
        "from sklearn.metrics import mean_squared_error\n",
        "\n",
        "# Membaca data dari file Excel\n",
        "file_path = 'produksiPadi.xlsx'  # Ganti dengan path file Anda\n",
        "df = pd.read_excel(file_path)\n",
        "\n",
        "# Contoh data (pastikan ada kolom 'Tahun' dan 'Produksi')\n",
        "print(df.head())\n"
      ],
      "metadata": {
        "colab": {
          "base_uri": "https://localhost:8080/"
        },
        "id": "19S-bfuXbNII",
        "outputId": "8a801d80-d72f-4074-8fae-1c2682bbd48c"
      },
      "execution_count": 9,
      "outputs": [
        {
          "output_type": "stream",
          "name": "stdout",
          "text": [
            "   Tahun  Produksi Padi(Ton)\n",
            "0   1970          18693649.0\n",
            "1   1971          20483687.0\n",
            "2   1972          19393933.0\n",
            "3   1973          21490578.0\n",
            "4   1974          22476073.0\n"
          ]
        }
      ]
    },
    {
      "cell_type": "code",
      "source": [
        "# Memisahkan fitur (X) dan target (y)\n",
        "X = df[['Tahun']]\n",
        "y = df['Produksi Padi(Ton)']\n",
        "\n",
        "# Membagi data menjadi data latih (70%) dan data uji (30%)\n",
        "X_train, X_test, y_train, y_test = train_test_split(X, y, test_size=0.3, random_state=42)\n"
      ],
      "metadata": {
        "id": "e-5HjHRYbWvM"
      },
      "execution_count": 10,
      "outputs": []
    },
    {
      "cell_type": "code",
      "source": [
        "# Inisialisasi model regresi linear\n",
        "model = LinearRegression()\n",
        "\n",
        "# Melatih model\n",
        "model.fit(X_train, y_train)\n",
        "\n",
        "# Tampilan koefisien dan intercept model\n",
        "print(\"Koefisien (Slope):\", model.coef_[0])\n",
        "print(\"Intercept:\", model.intercept_)\n"
      ],
      "metadata": {
        "colab": {
          "base_uri": "https://localhost:8080/"
        },
        "id": "CtOmefdebfn6",
        "outputId": "adcdbdc5-a6da-4be7-c743-94e1798b84ae"
      },
      "execution_count": 11,
      "outputs": [
        {
          "output_type": "stream",
          "name": "stdout",
          "text": [
            "Koefisien (Slope): 919791.223012648\n",
            "Intercept: -1788935664.2799673\n"
          ]
        }
      ]
    },
    {
      "cell_type": "code",
      "source": [
        "# Prediksi pada data uji\n",
        "y_pred = model.predict(X_test)\n",
        "\n",
        "# Tampilan hasil prediksi\n",
        "print(\"Hasil Prediksi:\\n\", y_pred)\n",
        "print(\"Data Aktual:\\n\", y_test.values)\n"
      ],
      "metadata": {
        "colab": {
          "base_uri": "https://localhost:8080/"
        },
        "id": "Gbi6InxGblYK",
        "outputId": "19fbc993-d1ea-4464-b3ac-fea0a57d800a"
      },
      "execution_count": 12,
      "outputs": [
        {
          "output_type": "stream",
          "name": "stdout",
          "text": [
            "Hasil Prediksi:\n",
            " [40529078.2921896  60764485.19846797 66283232.53654385 34090539.73110104\n",
            " 62604067.64449334 27652001.17001271 38689495.84616446 69042606.20558167\n",
            " 25812418.72398734 52486364.19135404 35010330.95411372 30411374.83905053\n",
            " 46967616.85327816 28571792.39302516 54325946.63737941 26732209.94700003]\n",
            "Data Aktual:\n",
            " [44725582.   65756904.   81148617.   33583677.   71279709.   22339455.\n",
            " 40078195.   54649202.24 21490578.   51489694.   35303106.   25771570.\n",
            " 51101506.   23300939.   54088468.   22476073.  ]\n"
          ]
        }
      ]
    },
    {
      "cell_type": "code",
      "source": [
        "# Menghitung MSE\n",
        "mse = mean_squared_error(y_test, y_pred)\n",
        "\n",
        "print(\"Mean Squared Error (MSE):\", mse)\n"
      ],
      "metadata": {
        "colab": {
          "base_uri": "https://localhost:8080/"
        },
        "id": "0iNKM9y8bpOS",
        "outputId": "e2ddd673-26d0-4c15-9b77-19fe0dae0ed5"
      },
      "execution_count": 13,
      "outputs": [
        {
          "output_type": "stream",
          "name": "stdout",
          "text": [
            "Mean Squared Error (MSE): 42542944649817.42\n"
          ]
        }
      ]
    },
    {
      "cell_type": "code",
      "source": [
        "import matplotlib.pyplot as plt\n",
        "\n",
        "# Plot data aktual dan prediksi\n",
        "plt.scatter(X_test, y_test, color='blue', label='Aktual')\n",
        "plt.plot(X_test, y_pred, color='red', label='Prediksi')\n",
        "plt.xlabel('Tahun')\n",
        "plt.ylabel('Produksi Padi(Ton)')\n",
        "plt.title('Regresi Linear Produksi Padi')\n",
        "plt.legend()\n",
        "plt.show()\n"
      ],
      "metadata": {
        "colab": {
          "base_uri": "https://localhost:8080/",
          "height": 472
        },
        "id": "RIfb3MCbbq87",
        "outputId": "7a409b8d-1910-4b1f-860b-cb647f36cd27"
      },
      "execution_count": 14,
      "outputs": [
        {
          "output_type": "display_data",
          "data": {
            "text/plain": [
              "<Figure size 640x480 with 1 Axes>"
            ],
            "image/png": "[encoded data removed]"
          },
          "metadata": {}
        }
      ]
    },
    {
      "cell_type": "code",
      "source": [
        "# Tahun yang ingin diprediksi\n",
        "tahun_prediksi = pd.DataFrame([[2023], [2024]], columns=['Tahun'])\n",
        "\n",
        "# Melakukan prediksi untuk tahun 2023 dan 2024\n",
        "prediksi_produksi = model.predict(tahun_prediksi)\n",
        "\n",
        "# hasil prediksi\n",
        "print(\"Prediksi Produksi Padi untuk Tahun 2023:\", prediksi_produksi[0])\n",
        "print(\"Prediksi Produksi Padi untuk Tahun 2024:\", prediksi_produksi[1])\n"
      ],
      "metadata": {
        "colab": {
          "base_uri": "https://localhost:8080/"
        },
        "id": "PQvvwdAkcAqC",
        "outputId": "c3cc034c-c9f2-41d0-d167-726a15a9d9cd"
      },
      "execution_count": 16,
      "outputs": [
        {
          "output_type": "stream",
          "name": "stdout",
          "text": [
            "Prediksi Produksi Padi untuk Tahun 2023: 71801979.87461972\n",
            "Prediksi Produksi Padi untuk Tahun 2024: 72721771.09763241\n"
          ]
        }
      ]
    }
  ]
}