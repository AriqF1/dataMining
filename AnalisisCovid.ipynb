{
  "nbformat": 4,
  "nbformat_minor": 0,
  "metadata": {
    "colab": {
      "provenance": [],
      "authorship_tag": "ABX9TyPiqGSc0KpO0sNGLZnr+8KK",
      "include_colab_link": true
    },
    "kernelspec": {
      "name": "python3",
      "display_name": "Python 3"
    },
    "language_info": {
      "name": "python"
    }
  },
  "cells": [
    {
      "cell_type": "markdown",
      "metadata": {
        "id": "view-in-github",
        "colab_type": "text"
      },
      "source": [
        "<a href=\"https://colab.research.google.com/github/AriqF1/dataMining/blob/main/AnalisisCovid.ipynb\" target=\"_parent\"><img src=\"https://colab.research.google.com/assets/colab-badge.svg\" alt=\"Open In Colab\"/></a>"
      ]
    },
    {
      "cell_type": "code",
      "execution_count": 45,
      "metadata": {
        "colab": {
          "base_uri": "https://localhost:8080/"
        },
        "id": "3FoPwl6X4DaK",
        "outputId": "db707821-c00a-4f75-efce-70365956e776"
      },
      "outputs": [
        {
          "output_type": "stream",
          "name": "stdout",
          "text": [
            "   Provinsi Laki-Laki 2020 Laki-Laki 2019 Laki-Laki 2018 Perempuan 2020  \\\n",
            "0       NaN           2020           2019           2018           2020   \n",
            "1      ACEH        2 691,8        2 656,1        2 619,9        2 696,3   \n",
            "2      BALI        2 221,4        2 195,4        2 169,3        2 193,1   \n",
            "3    BANTEN        6 557,9        6 470,2        6 381,1        6 337,4   \n",
            "4  BENGKULU        1 015,2        1 004,5          993,6          979,1   \n",
            "\n",
            "  Perempuan 2019 Perempuan 2018 Jumlah_Total Jumlah Total 2019  \\\n",
            "0           2019           2018         2020              2019   \n",
            "1        2 660,2        2 623,5      5 388,1           5 316,3   \n",
            "2        2 166,6        2 139,9      4 414,4           4 362,0   \n",
            "3        6 244,1        6 149,7     12 895,3          12 714,3   \n",
            "4          967,2          955,0      1 994,3           1 971,8   \n",
            "\n",
            "  Jumlah Total 2018  \n",
            "0              2018  \n",
            "1           5 243,4  \n",
            "2           4 309,2  \n",
            "3          12 530,8  \n",
            "4           1 948,6  \n"
          ]
        }
      ],
      "source": [
        "import pandas as pd\n",
        "\n",
        "# Header diatur ulang\n",
        "df_penduduk = pd.read_excel('JumlahPenduduk.xlsx', engine='openpyxl', header=1)\n",
        "\n",
        "# Hapus kolom kosong\n",
        "df_penduduk = df_penduduk.dropna(axis=1, how='all')\n",
        "\n",
        "# Hapus baris kosong\n",
        "df_penduduk = df_penduduk.dropna(axis=0, how='all')\n",
        "\n",
        "# Ganti nama kolom yang tidak relevan\n",
        "df_penduduk.columns = ['Provinsi', 'Laki-Laki 2020', 'Laki-Laki 2019','Laki-Laki 2018',\n",
        "                'Perempuan 2020', 'Perempuan 2019','Perempuan 2018',\n",
        "                'Jumlah Total 2020', 'Jumlah Total 2019','Jumlah Total 2018']\n",
        "df_penduduk.rename(columns={'Jumlah Total 2020' : 'Jumlah_Total'}, inplace=True)\n",
        "# Pratinjau data\n",
        "print(df_penduduk.head())\n",
        "\n"
      ]
    },
    {
      "cell_type": "code",
      "source": [
        "# file Kepadatan penduduk\n",
        "# Header diatur ulang\n",
        "df_kepadatan = pd.read_excel('Kepadatan.xlsx', engine='openpyxl', header=1)\n",
        "\n",
        "# Hapus kolom kosong\n",
        "df_kepadatan = df_kepadatan.dropna(axis=1, how='all')\n",
        "\n",
        "# Hapus baris kosong\n",
        "df_kepadatan = df_kepadatan.dropna(axis=0, how='all')\n",
        "\n",
        "# Ganti nama kolom yang tidak relevan\n",
        "df_kepadatan.columns = ['No','Provinsi','2015','2016','2019']\n",
        "df_kepadatan.rename(columns={'2019': 'Kepadatan_Penduduk'}, inplace=True)\n",
        "\n",
        "# Pratinjau data\n",
        "print(df_kepadatan.head())"
      ],
      "metadata": {
        "colab": {
          "base_uri": "https://localhost:8080/"
        },
        "id": "-kh7h5Pk63jX",
        "outputId": "ca5c5f21-a791-484a-db44-7e4260da8905"
      },
      "execution_count": 46,
      "outputs": [
        {
          "output_type": "stream",
          "name": "stdout",
          "text": [
            "   No                    Provinsi  2015   2016 Kepadatan_Penduduk\n",
            "0   1                        Aceh    93     88                 86\n",
            "1   2                        Bali   750    727                718\n",
            "2   3                      Banten  1338  1 263              1 237\n",
            "3   4                    Bengkulu   100     96                 94\n",
            "4   5  Daerah Istimewa Yogyakarta  1227  1 188              1 174\n"
          ]
        }
      ]
    },
    {
      "cell_type": "code",
      "source": [
        "#file Statistik Harian\n",
        "df_kasus = pd.read_csv('StatistikHarianCovid.csv')\n",
        "# Hapus kolom kosong\n",
        "df_kasus = df_kasus.dropna(axis=1, how='all')\n",
        "\n",
        "# Hapus baris kosong\n",
        "df_kasus = df_kasus.dropna(axis=0, how='all')\n",
        "# Ganti nama kolom yang tidak relevan\n",
        "df_kasus.columns = ['Object_id','Provinsi','Tanggal','Kasus_Terkonfirmasi_Akumulatif',\n",
        "                    'Penambahan_Kasus_Harian','Kasus_Sembuh_Akumulatif','Kasus_Sembuh_Harian',\n",
        "                    'Kasus_Meninggal_Akumulatif','Kasus_Meninggal_Harian','Kasus_Aktif_Akumulatif','CFR','RI_Harian','FID','ObjectID']\n",
        "\n",
        "# Pratinjau data\n",
        "print(df_kasus.head())"
      ],
      "metadata": {
        "colab": {
          "base_uri": "https://localhost:8080/"
        },
        "id": "2C2jtHrR65hT",
        "outputId": "2df2fed5-3421-432d-f507-e0eb49d35d36"
      },
      "execution_count": 47,
      "outputs": [
        {
          "output_type": "stream",
          "name": "stdout",
          "text": [
            "   Object_id                   Provinsi                 Tanggal  \\\n",
            "0        1.0                       Aceh  2020/03/02 00:00:00+00   \n",
            "1        2.0                       Bali  2020/03/02 00:00:00+00   \n",
            "2        3.0                     Banten  2020/03/02 00:00:00+00   \n",
            "3        4.0  Kepulauan Bangka Belitung  2020/03/02 00:00:00+00   \n",
            "4        5.0                   Bengkulu  2020/03/02 00:00:00+00   \n",
            "\n",
            "   Kasus_Terkonfirmasi_Akumulatif  Penambahan_Kasus_Harian  \\\n",
            "0                             0.0                      0.0   \n",
            "1                             0.0                      0.0   \n",
            "2                             0.0                      0.0   \n",
            "3                             0.0                      0.0   \n",
            "4                             0.0                      0.0   \n",
            "\n",
            "   Kasus_Sembuh_Akumulatif  Kasus_Sembuh_Harian  Kasus_Meninggal_Akumulatif  \\\n",
            "0                      0.0                  0.0                         0.0   \n",
            "1                      0.0                  0.0                         0.0   \n",
            "2                      0.0                  0.0                         0.0   \n",
            "3                      0.0                  0.0                         0.0   \n",
            "4                      0.0                  0.0                         0.0   \n",
            "\n",
            "   Kasus_Meninggal_Harian  Kasus_Aktif_Akumulatif      CFR RI_Harian  FID  \\\n",
            "0                     0.0                     0.0  #DIV/0!   #DIV/0!  1.0   \n",
            "1                     0.0                     0.0  #DIV/0!   #DIV/0!  2.0   \n",
            "2                     0.0                     0.0  #DIV/0!   #DIV/0!  3.0   \n",
            "3                     0.0                     0.0  #DIV/0!   #DIV/0!  4.0   \n",
            "4                     0.0                     0.0  #DIV/0!   #DIV/0!  5.0   \n",
            "\n",
            "   ObjectID  \n",
            "0      3572  \n",
            "1      3573  \n",
            "2      3574  \n",
            "3      3575  \n",
            "4      3576  \n"
          ]
        }
      ]
    },
    {
      "cell_type": "code",
      "source": [
        "grouped_kasus = df_kasus.groupby('Provinsi').agg({\n",
        "    'Kasus_Terkonfirmasi_Akumulatif': 'sum',\n",
        "    'Kasus_Sembuh_Akumulatif': 'sum',\n",
        "    'Kasus_Meninggal_Akumulatif': 'sum',\n",
        "    'Kasus_Aktif_Akumulatif': 'sum',\n",
        "    'RI_Harian': 'sum'\n",
        "}).reset_index()\n",
        "\n",
        "# Langkah 3: Pratinjau data hasil pengelompokan\n",
        "print(grouped_kasus.head())"
      ],
      "metadata": {
        "colab": {
          "base_uri": "https://localhost:8080/"
        },
        "id": "1eTbYxPyqx6M",
        "outputId": "f0ec4024-eae3-4026-98e2-c1b16bace8ff"
      },
      "execution_count": 48,
      "outputs": [
        {
          "output_type": "stream",
          "name": "stdout",
          "text": [
            "      Provinsi  Kasus_Terkonfirmasi_Akumulatif  Kasus_Sembuh_Akumulatif  \\\n",
            "0         Aceh                        409496.0                 239197.0   \n",
            "1         Bali                        914200.0                 767404.0   \n",
            "2       Banten                        653419.0                 447316.0   \n",
            "3     Bengkulu                         73135.0                  48913.0   \n",
            "4  DKI Jakarta                       7684369.0                5936777.0   \n",
            "\n",
            "   Kasus_Meninggal_Akumulatif  Kasus_Aktif_Akumulatif  \\\n",
            "0                     14901.0                155401.0   \n",
            "1                     23592.0                123183.0   \n",
            "2                     24345.0                181134.0   \n",
            "3                      4151.0                 20085.0   \n",
            "4                    219740.0               1525723.0   \n",
            "\n",
            "                                           RI_Harian  \n",
            "0  #DIV/0!#DIV/0!#DIV/0!#DIV/0!#DIV/0!#DIV/0!#DIV...  \n",
            "1  #DIV/0!#DIV/0!#DIV/0!#DIV/0!#DIV/0!#DIV/0!#DIV...  \n",
            "2  #DIV/0!#DIV/0!#DIV/0!#DIV/0!#DIV/0!#DIV/0!#DIV...  \n",
            "3  #DIV/0!#DIV/0!#DIV/0!#DIV/0!#DIV/0!#DIV/0!#DIV...  \n",
            "4  0.000000.000000.000000.000000.000000.000000.00...  \n"
          ]
        }
      ]
    },
    {
      "cell_type": "code",
      "source": [
        "# Gabung JumlahPenduduk dan Kepadatan\n",
        "merged_df = pd.merge(df_penduduk, df_kepadatan, on='Provinsi', how='inner')\n",
        "\n",
        "# Gabung dengan StatistikHarianCovid\n",
        "merged_df = pd.merge(merged_df, grouped_kasus, on='Provinsi', how='inner')\n"
      ],
      "metadata": {
        "id": "-ndVp8VF9cJC"
      },
      "execution_count": 49,
      "outputs": []
    },
    {
      "cell_type": "code",
      "source": [
        "merged_df['Rasio Kesembuhan'] = merged_df['Kasus_Sembuh_Akumulatif'] / merged_df['Kasus_Terkonfirmasi_Akumulatif']\n",
        "merged_df['Rasio Kematian'] = merged_df['Kasus_Meninggal_Akumulatif'] / merged_df['Kasus_Terkonfirmasi_Akumulatif']\n"
      ],
      "metadata": {
        "id": "ohLXXrYP9ijL"
      },
      "execution_count": 50,
      "outputs": []
    },
    {
      "cell_type": "code",
      "source": [
        "# unique values\n",
        "print(\"Unique Provinsi in df_penduduk:\", df_penduduk['Provinsi'].unique())\n",
        "print(\"Unique Provinsi in df_kepadatan:\", df_kepadatan['Provinsi'].unique())\n",
        "print(\"Unique Provinsi in grouped_kasus:\", grouped_kasus['Provinsi'].unique())\n",
        "\n",
        "# cleaning data\n",
        "df_penduduk['Provinsi'] = df_penduduk['Provinsi'].str.lower().str.strip()\n",
        "df_kepadatan['Provinsi'] = df_kepadatan['Provinsi'].str.lower().str.strip()\n",
        "grouped_kasus['Provinsi'] = grouped_kasus['Provinsi'].str.lower().str.strip()\n",
        "\n",
        "# Merge\n",
        "merged_df = pd.merge(df_penduduk, df_kepadatan, on='Provinsi', how='inner')\n",
        "merged_df = pd.merge(merged_df, grouped_kasus, on='Provinsi', how='inner')\n",
        "\n",
        "# Shape\n",
        "print(\"Shape of merged_df:\", merged_df.shape)"
      ],
      "metadata": {
        "colab": {
          "base_uri": "https://localhost:8080/"
        },
        "id": "RVeOvYt8s4qQ",
        "outputId": "c825d85a-8f41-4702-ea90-f8888739907d"
      },
      "execution_count": 51,
      "outputs": [
        {
          "output_type": "stream",
          "name": "stdout",
          "text": [
            "Unique Provinsi in df_penduduk: [nan 'ACEH' 'BALI' 'BANTEN' 'BENGKULU' 'DI YOGYAKARTA' 'DKI JAKARTA'\n",
            " 'GORONTALO' 'INDONESIA' 'JAMBI' 'JAWA BARAT' 'JAWA TENGAH' 'JAWA TIMUR'\n",
            " 'KALIMANTAN BARAT' 'KALIMANTAN SELATAN' 'KALIMANTAN TENGAH'\n",
            " 'KALIMANTAN TIMUR' 'KALIMANTAN UTARA' 'KEP. BANGKA BELITUNG' 'KEP. RIAU'\n",
            " 'LAMPUNG' 'MALUKU' 'MALUKU UTARA' 'NUSA TENGGARA BARAT'\n",
            " 'NUSA TENGGARA TIMUR' 'PAPUA' 'PAPUA BARAT' 'RIAU' 'SULAWESI BARAT'\n",
            " 'SULAWESI SELATAN' 'SULAWESI TENGAH' 'SULAWESI TENGGARA' 'SULAWESI UTARA'\n",
            " 'SUMATERA BARAT' 'SUMATERA SELATAN' 'SUMATERA UTARA'\n",
            " '\\nSumber : Proyeksi Penduduk Indonesia 2015 - 2045 Hasil SUPAS 2015\\nCatatan:\\n- Hasil Proyeksi Penduduk Indonesia 2015–2045 (Pertengahan tahun/Juni)\\n- Proyeksi dibuat dengan metode kohor komponen berdasarkan asumsi kecenderungan fertilitas, mortalitas, serta migrasi (migrasi internasional dan migrasi risen antar provinsi) yang paling mungkin terjadi selama periode 30 tahun yang akan datang.\\n'\n",
            " 'Source Url: https://www.bps.go.id/indicator/12/1886/1/jumlah-penduduk-hasil-proyeksi-menurut-provinsi-dan-jenis-kelamin.html'\n",
            " 'Access Time: February 4, 2021, 2:11 pm']\n",
            "Unique Provinsi in df_kepadatan: ['Aceh' 'Bali' 'Banten' 'Bengkulu' 'Daerah Istimewa Yogyakarta'\n",
            " 'DKI Jakarta' 'Gorontalo' 'INDONESIA' 'Jambi' 'Jawa Barat' 'Jawa Tengah'\n",
            " 'Jawa Timur' 'Kalimantan Barat' 'Kalimantan Selatan' 'Kalimantan Tengah'\n",
            " 'Kalimantan Timur' 'Kalimantan Utara' 'Kepulauan Bangka Belitung'\n",
            " 'Kepulauan Riau' 'Lampung' 'Maluku' 'Maluku Utara' 'Nusa Tenggara Barat'\n",
            " 'Nusa Tenggara Timur' 'Papua' 'Papua Barat' 'Riau' 'Sulawesi Barat'\n",
            " 'Sulawesi Selatan' 'Sulawesi Tengah' 'Sulawesi Tenggara' 'Sulawesi Utara'\n",
            " 'Sumatera Barat' 'Sumatera Selatan' 'Sumatera Utara']\n",
            "Unique Provinsi in grouped_kasus: ['Aceh' 'Bali' 'Banten' 'Bengkulu' 'DKI Jakarta'\n",
            " 'Daerah Istimewa Yogyakarta' 'Gorontalo' 'Indonesia' 'Jambi' 'Jawa Barat'\n",
            " 'Jawa Tengah' 'Jawa Timur' 'Kalimantan Barat' 'Kalimantan Selatan'\n",
            " 'Kalimantan Tengah' 'Kalimantan Timur' 'Kalimantan Utara'\n",
            " 'Kepulauan Bangka Belitung' 'Kepulauan Riau' 'Lampung' 'Maluku'\n",
            " 'Maluku Utara' 'Nusa Tenggara Barat' 'Nusa Tenggara Timur' 'Papua'\n",
            " 'Papua Barat' 'Riau' 'Sulawesi Barat' 'Sulawesi Selatan'\n",
            " 'Sulawesi Tengah' 'Sulawesi Tenggara' 'Sulawesi Utara' 'Sumatera Barat'\n",
            " 'Sumatera Selatan' 'Sumatera Utara']\n",
            "Shape of merged_df: (32, 19)\n"
          ]
        }
      ]
    },
    {
      "cell_type": "code",
      "source": [
        "# Bersihkan kolom numerik\n",
        "numeric_columns = ['Jumlah_Total', 'Kepadatan_Penduduk',\n",
        "                   'Kasus_Terkonfirmasi_Akumulatif', 'Kasus_Sembuh_Akumulatif', 'Kasus_Meninggal_Akumulatif']\n",
        "\n",
        "# Menghapus karakter non-numerik dan konversi ke float\n",
        "for col in numeric_columns:\n",
        "    merged_df[col] = merged_df[col].astype(str).str.replace(r'[^\\d.]', '', regex=True).astype(float)\n",
        "\n",
        "# Tambahkan kolom Rasio Kesembuhan dan Rasio Kematian\n",
        "merged_df['Rasio Kesembuhan'] = merged_df['Kasus_Sembuh_Akumulatif'] / merged_df['Kasus_Terkonfirmasi_Akumulatif']\n",
        "merged_df['Rasio Kematian'] = merged_df['Kasus_Meninggal_Akumulatif'] / merged_df['Kasus_Terkonfirmasi_Akumulatif']\n",
        "\n",
        "# Pilih fitur untuk klasterisasi\n",
        "features = ['Jumlah_Total', 'Kepadatan_Penduduk',\n",
        "            'Kasus_Terkonfirmasi_Akumulatif', 'Rasio Kesembuhan', 'Rasio Kematian']\n",
        "\n",
        "# Standarisasi data\n",
        "scaler = StandardScaler()\n",
        "scaled_features = scaler.fit_transform(merged_df[features])\n",
        "\n",
        "# Klasterisasi\n",
        "kmeans = KMeans(n_clusters=3, random_state=42)\n",
        "merged_df['Cluster'] = kmeans.fit_predict(scaled_features)\n"
      ],
      "metadata": {
        "id": "Qqihc6ywCsGL"
      },
      "execution_count": 52,
      "outputs": []
    },
    {
      "source": [
        "import pandas as pd\n",
        "\n",
        "\n",
        "filtered_columns = [\n",
        "    'Provinsi', 'Jumlah_Total', 'Kepadatan_Penduduk',\n",
        "    'Kasus_Terkonfirmasi_Akumulatif', 'Kasus_Aktif_Akumulatif',\n",
        "    'Kasus_Meninggal_Akumulatif', 'Kasus_Sembuh_Akumulatif', 'RI_Harian'\n",
        "]\n",
        "filtered_df = merged_df[filtered_columns].copy()\n",
        "\n",
        "filtered_df['CFR'] = (filtered_df['Kasus_Meninggal_Akumulatif'] /\n",
        "                      filtered_df['Kasus_Terkonfirmasi_Akumulatif']) * 100\n",
        "\n",
        "\n",
        "# Asumsi merged_df sudah ada sebelumnya\n",
        "\n",
        "\n",
        "# ... (rest of the code) ...\n",
        "\n",
        "def determine_zone(cfr, Kepadatan_Penduduk, Jumlah_Total, Kasus_Terkonfirmasi_Akumulatif):\n",
        "    if cfr > 2 and Kepadatan_Penduduk > 2000 and Jumlah_Total > 500000 and Kasus_Terkonfirmasi_Akumulatif > 4500000:\n",
        "        return \"Hitam\"\n",
        "    elif cfr > 1 or (1000 <= Kepadatan_Penduduk <= 2000) or (1000000 <= Jumlah_Total <= 5000000):\n",
        "        return \"Merah\"\n",
        "    elif cfr > 1 or (500 <= Kepadatan_Penduduk < 1000) or (500000 <= Jumlah_Total < 1000000):\n",
        "        return \"Kuning\"\n",
        "    else:\n",
        "        return \"Hijau\"\n",
        "\n",
        "# Terapkan fungsi pada setiap baris dataset\n",
        "filtered_df['Zona_Warna'] = filtered_df.apply(\n",
        "    lambda row: determine_zone(row['CFR'], row['Kepadatan_Penduduk'], row['Jumlah_Total'], row['Kasus_Terkonfirmasi_Akumulatif']), axis=1\n",
        ")\n",
        "\n"
      ],
      "cell_type": "code",
      "metadata": {
        "id": "Q-MQwGVNLsCF"
      },
      "execution_count": 68,
      "outputs": []
    },
    {
      "cell_type": "code",
      "source": [
        "# Simpan DataFrame ke dalam file Excel\n",
        "filtered_df.to_excel('Zona_Analysis.xlsx', index=False)\n",
        "\n",
        "print(\"File berhasil disimpan sebagai 'Zona_COVID_Analysis.xlsx'\")\n"
      ],
      "metadata": {
        "colab": {
          "base_uri": "https://localhost:8080/"
        },
        "id": "2I2SzZnDNONp",
        "outputId": "8008612b-b6e3-49a8-cd53-4321e456682b"
      },
      "execution_count": 70,
      "outputs": [
        {
          "output_type": "stream",
          "name": "stdout",
          "text": [
            "File berhasil disimpan sebagai 'Zona_COVID_Analysis.xlsx'\n"
          ]
        }
      ]
    }
  ]
}